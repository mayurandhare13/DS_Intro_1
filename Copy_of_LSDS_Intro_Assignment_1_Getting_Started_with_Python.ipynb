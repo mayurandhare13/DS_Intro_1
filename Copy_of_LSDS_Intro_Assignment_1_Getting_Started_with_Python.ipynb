{
  "nbformat": 4,
  "nbformat_minor": 0,
  "metadata": {
    "colab": {
      "name": "Copy of LSDS Intro Assignment 1 - Getting Started with Python.ipynb",
      "version": "0.3.2",
      "provenance": [],
      "collapsed_sections": [],
      "include_colab_link": true
    },
    "kernelspec": {
      "name": "python3",
      "display_name": "Python 3"
    }
  },
  "cells": [
    {
      "cell_type": "markdown",
      "metadata": {
        "id": "view-in-github",
        "colab_type": "text"
      },
      "source": [
        "<a href=\"https://colab.research.google.com/github/mayurandhare13/LSDS_Python_Intro/blob/master/Copy_of_LSDS_Intro_Assignment_1_Getting_Started_with_Python.ipynb\" target=\"_parent\"><img src=\"https://colab.research.google.com/assets/colab-badge.svg\" alt=\"Open In Colab\"/></a>"
      ]
    },
    {
      "metadata": {
        "id": "51dZwqDNc9x6",
        "colab_type": "text"
      },
      "cell_type": "markdown",
      "source": [
        "# Lambda School Data Science - Getting Started with Python\n",
        "\n",
        "Following are exercises you should complete after watching the first intro lecture. Workflow:\n",
        "\n",
        "1. Sign in to a Google account\n",
        "2. Copy the notebook (`File` -> `Save a copy in Drive`)\n",
        "3. Complete the exercises! This means fill out the code cells, and run them (shift-enter or click the play button that appears when you're in one of them)\n",
        "4. Take a look at your work, and write comments/add text cells as appropriate to explain\n",
        "5. Make the notebook URL viewable and submit with the standup form"
      ]
    },
    {
      "metadata": {
        "id": "I6biutgwdgpb",
        "colab_type": "text"
      },
      "cell_type": "markdown",
      "source": [
        "## Exercise 1 - A bit of Math\n",
        "\n",
        "For these \"word\" problems, use Python to clearly solve them. Your code will \"show your work\" - use good variable names! To show your answers you should write a `print()` statement at the end.\n",
        "\n",
        "As you work, follow the **20 minute rule** - that means if you're stuck on something for 20 minutes, you should ask a question!\n",
        "\n",
        "### a) It's a gas\n",
        "\n",
        "A taxi driver is calculating their profit over two weeks by adding up the fares they charge and subtracting the cost of gas. The price of gas changes over time - it was `$3.52`/gallon the first week and `$3.57`/gallon this second week. Their car gets 20 miles per gallon.\n",
        "\n",
        "For the first week the driver had a total of 23 passengers with average `$29` fare each, and drove a total of 160 miles. For the second week they had 17 passengers with average `$30` fare each, and drove a total of 220 miles. Assume that for both weeks they purchase all the gas needed during that week (i.e. they refuel every week to maintain a constant level of gas in the tank).\n",
        "\n",
        "Based on the above, answer the following questions:\n",
        "\n",
        "- What is their total profit over both weeks?\n",
        "- During which week was their average (mean) profit per passenger higher?\n"
      ]
    },
    {
      "metadata": {
        "id": "CWJeYQW6AoGf",
        "colab_type": "code",
        "outputId": "4b168363-ac2f-4869-95de-3bef2706ef69",
        "colab": {
          "base_uri": "https://localhost:8080/",
          "height": 85
        }
      },
      "cell_type": "code",
      "source": [
        "def gas_cost(week_no, miles):\n",
        "  total_gallon = miles / 20\n",
        "  if(week_no == 'one'):\n",
        "    g_cost = 3.52 * total_gallon\n",
        "  \n",
        "  elif(week_no == 'two'):\n",
        "    g_cost = 3.57 * total_gallon\n",
        "  \n",
        "  return g_cost\n",
        "\n",
        "def total_amount(week_no, no_of_passengers, rent, miles):\n",
        "  g_cost = gas_cost(week_no, miles)\n",
        "  if(week_no == 'one'):\n",
        "    total_rent = no_of_passengers * rent\n",
        "  \n",
        "  elif(week_no == 'two'):\n",
        "    total_rent = no_of_passengers * rent\n",
        "    \n",
        "  return total_rent - g_cost\n",
        "\n",
        "def calc_profit():\n",
        "  one_week_total = total_amount('one', 23, 29, 160)\n",
        "  print(\"first week gross profit\", one_week_total)\n",
        "  print(\"AVG profit 1st: \", one_week_total / 23)\n",
        "  two_week_total = total_amount('two', 17, 30, 220)\n",
        "  print(\"second week gross profit\", two_week_total)\n",
        "  print(\"AVG profit 2nd: \", two_week_total / 17)\n",
        "  \n",
        "calc_profit()"
      ],
      "execution_count": 0,
      "outputs": [
        {
          "output_type": "stream",
          "text": [
            "first week gross profit 638.84\n",
            "AVG profit 1st:  27.775652173913045\n",
            "second week gross profit 470.73\n",
            "AVG profit 2nd:  27.69\n"
          ],
          "name": "stdout"
        }
      ]
    },
    {
      "metadata": {
        "id": "0l4bUPHmR5Ko",
        "colab_type": "text"
      },
      "cell_type": "markdown",
      "source": [
        "### b) Mo' money...\n",
        "\n",
        "A cash drawer contains 160 bills, all 10s and 50s. The total value of the 10s and 50s is $1,760.\n",
        "\n",
        "How many of each type of bill are in the drawer? You can figure this out by trial and error (or by doing algebra with pencil and paper), but try to use loops and conditionals to check a plausible possibilities and stop when you find the correct one."
      ]
    },
    {
      "metadata": {
        "id": "Q2Atz_kyR8_6",
        "colab_type": "code",
        "outputId": "ef1259a9-1222-4fc5-838b-1358f568cfbc",
        "colab": {
          "base_uri": "https://localhost:8080/",
          "height": 34
        }
      },
      "cell_type": "code",
      "source": [
        "#asked for fiirst correct one\n",
        "total = 1760\n",
        "def first_bills(total):\n",
        "  amount = 0\n",
        "  for i in range(1, 161):\n",
        "    for j in range(1, 161):\n",
        "      amount = 10*i + 50*j\n",
        "      if amount == total:\n",
        "        return (i, j) #for all possibilities remove return and append in list\n",
        "\n",
        "      if (i + j) == 160:\n",
        "        break\n",
        "\n",
        "print(first_bills(total))"
      ],
      "execution_count": 1,
      "outputs": [
        {
          "output_type": "stream",
          "text": [
            "(1, 35)\n"
          ],
          "name": "stdout"
        }
      ]
    },
    {
      "metadata": {
        "id": "UCFtX_q9aQlc",
        "colab_type": "text"
      },
      "cell_type": "markdown",
      "source": [
        "## Exercise 2 - Drawing a plot\n",
        "\n",
        "Use NumPy and Matplotlib to draw a scatterplot of uniform random `(x, y)` values all drawn from the `[0, 1]` interval. Helpful documentation:\n",
        "\n",
        "*   https://matplotlib.org/tutorials/index.html\n",
        "*   https://docs.scipy.org/doc/numpy/user/quickstart.html\n",
        "\n",
        "Stretch goal - draw more plots! You can refer to the [Matplotlib gallery](https://matplotlib.org/gallery.html) for inspiration, but don't just reproduce something - try to apply it to your own data.\n",
        "\n",
        "How to get data? There's *many* ways, but a good place to get started is with [sklearn.datasets](http://scikit-learn.org/stable/datasets/index.html):\n",
        "\n",
        "```\n",
        "from sklearn import datasets\n",
        "dir(datasets)\n",
        "```"
      ]
    },
    {
      "metadata": {
        "id": "pNEb09gMaltL",
        "colab_type": "code",
        "colab": {}
      },
      "cell_type": "code",
      "source": [
        "import matplotlib.pyplot as plt\n",
        "import numpy as np\n",
        "from sklearn import datasets\n",
        "dir(datasets)"
      ],
      "execution_count": 0,
      "outputs": []
    },
    {
      "metadata": {
        "id": "e7-RdQWCV8Ui",
        "colab_type": "code",
        "outputId": "1e4d3ad2-33d0-4014-97de-8a81fcf3037f",
        "colab": {
          "base_uri": "https://localhost:8080/",
          "height": 313
        }
      },
      "cell_type": "code",
      "source": [
        "from sklearn.datasets import load_iris\n",
        "iris = load_iris()\n",
        "features = iris.data.T #represents features\n",
        "print(\"Shape: \", iris.data.T.shape)\n",
        "plt.scatter(features[0], features[2], alpha=0.4,\n",
        "           s=50*features[1], c=iris.target, cmap='plasma')\n",
        "plt.xlabel(iris.feature_names[0])\n",
        "plt.ylabel(iris.feature_names[2])\n"
      ],
      "execution_count": 0,
      "outputs": [
        {
          "output_type": "stream",
          "text": [
            "Shape:  (4, 150)\n"
          ],
          "name": "stdout"
        },
        {
          "output_type": "execute_result",
          "data": {
            "text/plain": [
              "Text(0,0.5,'petal length (cm)')"
            ]
          },
          "metadata": {
            "tags": []
          },
          "execution_count": 70
        },
        {
          "output_type": "display_data",
          "data": {
            "image/png": "[encoded data removed]",
            "text/plain": [
              "<matplotlib.figure.Figure at 0x7f93f26ab7f0>"
            ]
          },
          "metadata": {
            "tags": []
          }
        }
      ]
    },
    {
      "metadata": {
        "id": "hGpFAslRhuem",
        "colab_type": "text"
      },
      "cell_type": "markdown",
      "source": [
        "## Exercise 3 - Writing a function\n",
        "Write a function that, given a list of numbers, calculates the mean, median, and mode of those numbers. Return a dictionary with properties for the mean, median and mode. \n",
        "\n",
        "For example:\n",
        "\n",
        "```\n",
        "mmm_dict = meanMedianMode([1, 2, 6, 7, 8, 9, 3, 4, 5, 10, 10])\n",
        "print(mmm_dict)\n",
        "> {'mean': 5.909090909090909, 'median': 6, 'mode': 10}\n",
        "```\n",
        "\n",
        "There are Python standard libraries that make calculating these numbers very easy, but first try your hand at implementing it using the `reduce()` function:"
      ]
    },
    {
      "metadata": {
        "id": "e8dmYzTmiXD_",
        "colab_type": "code",
        "outputId": "b905132c-5f29-4479-f477-e46e77d43481",
        "colab": {
          "base_uri": "https://localhost:8080/",
          "height": 221
        }
      },
      "cell_type": "code",
      "source": [
        "from functools import reduce\n",
        "help(reduce)"
      ],
      "execution_count": 0,
      "outputs": [
        {
          "output_type": "stream",
          "text": [
            "Help on built-in function reduce in module _functools:\n",
            "\n",
            "reduce(...)\n",
            "    reduce(function, sequence[, initial]) -> value\n",
            "    \n",
            "    Apply a function of two arguments cumulatively to the items of a sequence,\n",
            "    from left to right, so as to reduce the sequence to a single value.\n",
            "    For example, reduce(lambda x, y: x+y, [1, 2, 3, 4, 5]) calculates\n",
            "    ((((1+2)+3)+4)+5).  If initial is present, it is placed before the items\n",
            "    of the sequence in the calculation, and serves as a default when the\n",
            "    sequence is empty.\n",
            "\n"
          ],
          "name": "stdout"
        }
      ]
    },
    {
      "metadata": {
        "id": "nmkk-CHvh0Nj",
        "colab_type": "code",
        "outputId": "78898908-958c-4914-bdb9-d06a45af66c8",
        "colab": {
          "base_uri": "https://localhost:8080/",
          "height": 85
        }
      },
      "cell_type": "code",
      "source": [
        "def meanMedianMode(numbers):\n",
        "    sorted(numbers)\n",
        "    print(numbers)\n",
        "    sum = reduce(lambda x, y: x+y, numbers)\n",
        "    mean = sum / len(numbers)\n",
        "    print(mean)\n",
        "    \n",
        "    l_num = len(numbers)\n",
        "    if l_num%2 == 1:\n",
        "      median = numbers[l_num // 2]\n",
        "    else:\n",
        "      median = (numbers[l_num//2-1] + numbers[l_num//2+1])/2.0\n",
        "    print(median)\n",
        "    \n",
        "    mode = max(set(numbers), key = numbers.count)\n",
        "    print(mode)\n",
        "\n",
        "    \n",
        "numbers = [1, 2, 6, 7, 8, 9, 3, 13,13, 4, 5, 10]\n",
        "meanMedianMode(numbers)"
      ],
      "execution_count": 0,
      "outputs": [
        {
          "output_type": "stream",
          "text": [
            "[1, 2, 6, 7, 8, 9, 3, 13, 13, 4, 5, 10]\n",
            "6.75\n",
            "11.0\n",
            "13\n"
          ],
          "name": "stdout"
        }
      ]
    },
    {
      "metadata": {
        "id": "sRcPzCEjgpzP",
        "colab_type": "code",
        "colab": {}
      },
      "cell_type": "code",
      "source": [
        ""
      ],
      "execution_count": 0,
      "outputs": []
    }
  ]
}