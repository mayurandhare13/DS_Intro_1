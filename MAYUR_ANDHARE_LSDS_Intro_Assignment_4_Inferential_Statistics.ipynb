{
  "nbformat": 4,
  "nbformat_minor": 0,
  "metadata": {
    "colab": {
      "name": "MAYUR_ANDHARE_LSDS Intro Assignment 4 - Inferential Statistics.ipynb",
      "version": "0.3.2",
      "provenance": [],
      "collapsed_sections": [],
      "include_colab_link": true
    },
    "kernelspec": {
      "display_name": "Python 3",
      "language": "python",
      "name": "python3"
    }
  },
  "cells": [
    {
      "cell_type": "markdown",
      "metadata": {
        "id": "view-in-github",
        "colab_type": "text"
      },
      "source": [
        "<a href=\"https://colab.research.google.com/github/mayurandhare13/LS-Data-Science/blob/master/MAYUR_ANDHARE_LSDS_Intro_Assignment_4_Inferential_Statistics.ipynb\" target=\"_parent\"><img src=\"https://colab.research.google.com/assets/colab-badge.svg\" alt=\"Open In Colab\"/></a>"
      ]
    },
    {
      "metadata": {
        "id": "LSwe_aflLNyk",
        "colab_type": "text"
      },
      "cell_type": "markdown",
      "source": [
        "# Lambda School, Intro to Data Science, Day 4\n",
        "\n",
        "## Inferential Statistics Assignment"
      ]
    },
    {
      "metadata": {
        "id": "i19U8PYQLNym",
        "colab_type": "code",
        "colab": {}
      },
      "cell_type": "code",
      "source": [
        "%matplotlib inline\n",
        "import matplotlib.pyplot as plt\n",
        "import pandas as pd\n",
        "import random\n",
        "from statistics import mean, stdev"
      ],
      "execution_count": 0,
      "outputs": []
    },
    {
      "metadata": {
        "id": "Gi1JCNi1LNyp",
        "colab_type": "text"
      },
      "cell_type": "markdown",
      "source": [
        "# Titanic\n",
        "\n",
        "Use the [`describe` function in pandas](https://pandas.pydata.org/pandas-docs/stable/generated/pandas.DataFrame.describe.html) to calculate summary statistics (including mean and standard deviation) for `age` and `fare`.\n",
        "\n",
        "Think, and be ready to discuss: How do these two features compare in their central tendency and in their spread?"
      ]
    },
    {
      "metadata": {
        "id": "r2ZTA_lILNyq",
        "colab_type": "code",
        "outputId": "18b1987e-d6fd-4b64-8a93-b8adb4634ffd",
        "colab": {
          "base_uri": "https://localhost:8080/",
          "height": 34
        }
      },
      "cell_type": "code",
      "source": [
        "df = pd.read_csv('https://raw.githubusercontent.com/ryanleeallred/datasets/master/titanic.csv', index_col=0)\n",
        "print(df.shape)\n",
        "features = ['age', 'fare']\n",
        "df.dropna(subset=features, inplace=True)"
      ],
      "execution_count": 0,
      "outputs": [
        {
          "output_type": "stream",
          "text": [
            "(891, 15)\n"
          ],
          "name": "stdout"
        }
      ]
    },
    {
      "metadata": {
        "id": "N04bFF3PLNys",
        "colab_type": "code",
        "outputId": "2df0df9a-a098-4ef5-9c71-89bacb493cac",
        "colab": {
          "base_uri": "https://localhost:8080/",
          "height": 34
        }
      },
      "cell_type": "code",
      "source": [
        "df.shape"
      ],
      "execution_count": 0,
      "outputs": [
        {
          "output_type": "execute_result",
          "data": {
            "text/plain": [
              "(714, 15)"
            ]
          },
          "metadata": {
            "tags": []
          },
          "execution_count": 6
        }
      ]
    },
    {
      "metadata": {
        "id": "V9JvxJxWEdgt",
        "colab_type": "code",
        "outputId": "b5bd7eb2-2625-4681-ac6d-8002950c28a5",
        "colab": {
          "base_uri": "https://localhost:8080/",
          "height": 297
        }
      },
      "cell_type": "code",
      "source": [
        "df.describe()"
      ],
      "execution_count": 0,
      "outputs": [
        {
          "output_type": "execute_result",
          "data": {
            "text/html": [
              "<div>\n",
              "<style scoped>\n",
              "    .dataframe tbody tr th:only-of-type {\n",
              "        vertical-align: middle;\n",
              "    }\n",
              "\n",
              "    .dataframe tbody tr th {\n",
              "        vertical-align: top;\n",
              "    }\n",
              "\n",
              "    .dataframe thead th {\n",
              "        text-align: right;\n",
              "    }\n",
              "</style>\n",
              "<table border=\"1\" class=\"dataframe\">\n",
              "  <thead>\n",
              "    <tr style=\"text-align: right;\">\n",
              "      <th></th>\n",
              "      <th>survived</th>\n",
              "      <th>pclass</th>\n",
              "      <th>age</th>\n",
              "      <th>sibsp</th>\n",
              "      <th>parch</th>\n",
              "      <th>fare</th>\n",
              "    </tr>\n",
              "  </thead>\n",
              "  <tbody>\n",
              "    <tr>\n",
              "      <th>count</th>\n",
              "      <td>714.000000</td>\n",
              "      <td>714.000000</td>\n",
              "      <td>714.000000</td>\n",
              "      <td>714.000000</td>\n",
              "      <td>714.000000</td>\n",
              "      <td>714.000000</td>\n",
              "    </tr>\n",
              "    <tr>\n",
              "      <th>mean</th>\n",
              "      <td>0.406162</td>\n",
              "      <td>2.236695</td>\n",
              "      <td>29.699118</td>\n",
              "      <td>0.512605</td>\n",
              "      <td>0.431373</td>\n",
              "      <td>34.694514</td>\n",
              "    </tr>\n",
              "    <tr>\n",
              "      <th>std</th>\n",
              "      <td>0.491460</td>\n",
              "      <td>0.838250</td>\n",
              "      <td>14.526497</td>\n",
              "      <td>0.929783</td>\n",
              "      <td>0.853289</td>\n",
              "      <td>52.918930</td>\n",
              "    </tr>\n",
              "    <tr>\n",
              "      <th>min</th>\n",
              "      <td>0.000000</td>\n",
              "      <td>1.000000</td>\n",
              "      <td>0.420000</td>\n",
              "      <td>0.000000</td>\n",
              "      <td>0.000000</td>\n",
              "      <td>0.000000</td>\n",
              "    </tr>\n",
              "    <tr>\n",
              "      <th>25%</th>\n",
              "      <td>0.000000</td>\n",
              "      <td>1.000000</td>\n",
              "      <td>20.125000</td>\n",
              "      <td>0.000000</td>\n",
              "      <td>0.000000</td>\n",
              "      <td>8.050000</td>\n",
              "    </tr>\n",
              "    <tr>\n",
              "      <th>50%</th>\n",
              "      <td>0.000000</td>\n",
              "      <td>2.000000</td>\n",
              "      <td>28.000000</td>\n",
              "      <td>0.000000</td>\n",
              "      <td>0.000000</td>\n",
              "      <td>15.741700</td>\n",
              "    </tr>\n",
              "    <tr>\n",
              "      <th>75%</th>\n",
              "      <td>1.000000</td>\n",
              "      <td>3.000000</td>\n",
              "      <td>38.000000</td>\n",
              "      <td>1.000000</td>\n",
              "      <td>1.000000</td>\n",
              "      <td>33.375000</td>\n",
              "    </tr>\n",
              "    <tr>\n",
              "      <th>max</th>\n",
              "      <td>1.000000</td>\n",
              "      <td>3.000000</td>\n",
              "      <td>80.000000</td>\n",
              "      <td>5.000000</td>\n",
              "      <td>6.000000</td>\n",
              "      <td>512.329200</td>\n",
              "    </tr>\n",
              "  </tbody>\n",
              "</table>\n",
              "</div>"
            ],
            "text/plain": [
              "         survived      pclass         age       sibsp       parch        fare\n",
              "count  714.000000  714.000000  714.000000  714.000000  714.000000  714.000000\n",
              "mean     0.406162    2.236695   29.699118    0.512605    0.431373   34.694514\n",
              "std      0.491460    0.838250   14.526497    0.929783    0.853289   52.918930\n",
              "min      0.000000    1.000000    0.420000    0.000000    0.000000    0.000000\n",
              "25%      0.000000    1.000000   20.125000    0.000000    0.000000    8.050000\n",
              "50%      0.000000    2.000000   28.000000    0.000000    0.000000   15.741700\n",
              "75%      1.000000    3.000000   38.000000    1.000000    1.000000   33.375000\n",
              "max      1.000000    3.000000   80.000000    5.000000    6.000000  512.329200"
            ]
          },
          "metadata": {
            "tags": []
          },
          "execution_count": 7
        }
      ]
    },
    {
      "metadata": {
        "id": "fkadXVIDEnJb",
        "colab_type": "code",
        "outputId": "1dd67ea3-1a26-4a44-9d44-ffdce18fe1a8",
        "colab": {
          "base_uri": "https://localhost:8080/",
          "height": 34
        }
      },
      "cell_type": "code",
      "source": [
        "df.age.mean(), df.age.std()"
      ],
      "execution_count": 0,
      "outputs": [
        {
          "output_type": "execute_result",
          "data": {
            "text/plain": [
              "(29.69911764705882, 14.526497332334042)"
            ]
          },
          "metadata": {
            "tags": []
          },
          "execution_count": 10
        }
      ]
    },
    {
      "metadata": {
        "id": "zGWNmjMpE0jC",
        "colab_type": "code",
        "outputId": "6cc6c5dd-01b2-4f8d-e38b-4f6f5c03fa9c",
        "colab": {
          "base_uri": "https://localhost:8080/",
          "height": 34
        }
      },
      "cell_type": "code",
      "source": [
        "df.fare.mean(), df.fare.std()"
      ],
      "execution_count": 0,
      "outputs": [
        {
          "output_type": "execute_result",
          "data": {
            "text/plain": [
              "(34.694514005602244, 52.91892950254356)"
            ]
          },
          "metadata": {
            "tags": []
          },
          "execution_count": 11
        }
      ]
    },
    {
      "metadata": {
        "id": "dfFb3yzjLNyu",
        "colab_type": "text"
      },
      "cell_type": "markdown",
      "source": [
        "Plot histograms for both features.\n",
        "\n",
        "Think, and be ready to discuss: What do you notice about the shape of these distributions?"
      ]
    },
    {
      "metadata": {
        "id": "K2M9twlfLNyu",
        "colab_type": "code",
        "outputId": "7f3a9e6f-a599-4714-bce5-767dc7a0124f",
        "colab": {
          "base_uri": "https://localhost:8080/",
          "height": 265
        }
      },
      "cell_type": "code",
      "source": [
        "plt.hist(df.age);"
      ],
      "execution_count": 0,
      "outputs": [
        {
          "output_type": "display_data",
          "data": {
            "image/png": "[encoded data removed]",
            "text/plain": [
              "<matplotlib.figure.Figure at 0x7f6622185860>"
            ]
          },
          "metadata": {
            "tags": []
          }
        }
      ]
    },
    {
      "metadata": {
        "id": "He1QDkWXLNyw",
        "colab_type": "code",
        "outputId": "fdccdfaa-a91c-406b-cdcd-5fa8386dee18",
        "colab": {
          "base_uri": "https://localhost:8080/",
          "height": 267
        }
      },
      "cell_type": "code",
      "source": [
        "plt.hist(df.fare);"
      ],
      "execution_count": 0,
      "outputs": [
        {
          "output_type": "display_data",
          "data": {
            "image/png": "[encoded data removed]",
            "text/plain": [
              "<matplotlib.figure.Figure at 0x7f661f8d6ba8>"
            ]
          },
          "metadata": {
            "tags": []
          }
        }
      ]
    },
    {
      "metadata": {
        "id": "5cXkMdm-LNyz",
        "colab_type": "text"
      },
      "cell_type": "markdown",
      "source": [
        "# Clumsy Carl\n",
        "\n",
        "Re-do the Clumsy Carl problem -- but suppose that Carl broke **2** of 5 dishes. What's the p-value?\n",
        "\n",
        "Think, and be ready to discuss: Would you reject the null hypothesis?\n",
        "\n",
        "Suggestion: You can look at the lecture notebook, but **don't copy-paste** from it!\n",
        "\n",
        "> You must type each of these exercises in, manually. If you copy and paste, you might as well not even do them. The point of these exercises is to train your hands, your brain, and your mind in how to read, write, and see code. If you copy-paste, you are cheating yourself out of the effectiveness of the lessons. —*[Learn Python the Hard Way](https://learnpythonthehardway.org/book/intro.html)*\n",
        "\n",
        "---\n",
        "\n",
        "Here's the problem restated:\n",
        "\n",
        "Imagine a restaurant employs five dishwashers:\n",
        "- Alice\n",
        "- Bob\n",
        "- Carl\n",
        "- Dave\n",
        "- Eric\n",
        "\n",
        "One week, they break five dishes -- and Carl breaks **two** of the five. So, his coworkers have a hypothesis: Carl is clumsy!\n",
        "\n",
        "Carl says no, it was just bad luck and random chance: it could have happened to anybody. We can call this the null hypothesis.\n",
        "\n",
        "Can we do some math to help answer this argument? What's the probability it was just bad luck?\n",
        "\n",
        "We can write a Monte Carlo simulation to estimate the probability that Carl breaks at least four of the five dishes, assuming that breaking a dish is a truly random event. (We'll assume that the dishwashers have identical workloads and skills.)\n"
      ]
    },
    {
      "metadata": {
        "id": "5IdSBJnmLNy0",
        "colab_type": "code",
        "colab": {}
      },
      "cell_type": "code",
      "source": [
        "dishwashers = ['Alice', 'Bob', 'Carl', 'Dave', 'Eric']"
      ],
      "execution_count": 0,
      "outputs": []
    },
    {
      "metadata": {
        "id": "etpy-I1ILNy2",
        "colab_type": "code",
        "colab": {}
      },
      "cell_type": "code",
      "source": [
        "def test():\n",
        "  breakers = [random.choice(dishwashers) for _ in range(5)]\n",
        "  return breakers.count('Carl')"
      ],
      "execution_count": 0,
      "outputs": []
    },
    {
      "metadata": {
        "id": "UtfVQEE2GUVQ",
        "colab_type": "code",
        "colab": {}
      },
      "cell_type": "code",
      "source": [
        "tests = [test() for _ in range(100000)]"
      ],
      "execution_count": 0,
      "outputs": []
    },
    {
      "metadata": {
        "id": "X9at9HFMGluf",
        "colab_type": "code",
        "outputId": "fec6fae3-231e-479f-cf16-80d630e09771",
        "colab": {
          "base_uri": "https://localhost:8080/",
          "height": 265
        }
      },
      "cell_type": "code",
      "source": [
        "plt.hist(tests);"
      ],
      "execution_count": 0,
      "outputs": [
        {
          "output_type": "display_data",
          "data": {
            "image/png": "[encoded data removed]",
            "text/plain": [
              "<matplotlib.figure.Figure at 0x7f661f7650f0>"
            ]
          },
          "metadata": {
            "tags": []
          }
        }
      ]
    },
    {
      "metadata": {
        "id": "V2u6V2H9GpkL",
        "colab_type": "code",
        "outputId": "2f666c07-616d-4dfb-9eb8-95c2f61d8ef3",
        "colab": {
          "base_uri": "https://localhost:8080/",
          "height": 34
        }
      },
      "cell_type": "code",
      "source": [
        "mean(tests), stdev(tests)"
      ],
      "execution_count": 0,
      "outputs": [
        {
          "output_type": "execute_result",
          "data": {
            "text/plain": [
              "(0.99766, 0.8945068618100469)"
            ]
          },
          "metadata": {
            "tags": []
          },
          "execution_count": 22
        }
      ]
    },
    {
      "metadata": {
        "id": "RC0qbUQiG1bf",
        "colab_type": "code",
        "outputId": "5874b668-ad80-4d45-9a31-0be84dc7109f",
        "colab": {
          "base_uri": "https://localhost:8080/",
          "height": 34
        }
      },
      "cell_type": "code",
      "source": [
        "'''\n",
        "Calculate z-score || (standard score)\n",
        "(1|2|3|any_no_of_dishes_break - mean) / std\n",
        "'''\n",
        "std_score = (2 - mean(tests)) / stdev(tests)\n",
        "print(std_score)"
      ],
      "execution_count": 0,
      "outputs": [
        {
          "output_type": "stream",
          "text": [
            "1.1205503756245663\n"
          ],
          "name": "stdout"
        }
      ]
    },
    {
      "metadata": {
        "id": "pqVt9K8AJUcm",
        "colab_type": "text"
      },
      "cell_type": "markdown",
      "source": [
        "Here's the \"standard score\" of Carl breaking 2 dishes. It's over 1 standard deviations from the mean."
      ]
    },
    {
      "metadata": {
        "id": "CQu7u1IfI5rk",
        "colab_type": "text"
      },
      "cell_type": "markdown",
      "source": [
        "how often Carl breaks 2+ dishes in our Monte Carlo simulation of the null hypothesin?"
      ]
    },
    {
      "metadata": {
        "id": "9bXioYiyIxOy",
        "colab_type": "code",
        "outputId": "fe57d6f5-2bc5-432a-8ca8-48cc361c11cb",
        "colab": {
          "base_uri": "https://localhost:8080/",
          "height": 34
        }
      },
      "cell_type": "code",
      "source": [
        "p_value = mean(test >= 2 for test in tests)\n",
        "print(p_value)"
      ],
      "execution_count": 0,
      "outputs": [
        {
          "output_type": "stream",
          "text": [
            "0.26221\n"
          ],
          "name": "stdout"
        }
      ]
    },
    {
      "metadata": {
        "id": "lbuNLuPVLNy4",
        "colab_type": "text"
      },
      "cell_type": "markdown",
      "source": [
        "# Two dice\n",
        "\n",
        "Simulate the distribution of adding two dice.\n",
        "\n",
        "What is the mean? Standard deviation?"
      ]
    },
    {
      "metadata": {
        "id": "Cn1yEJDQLNy5",
        "colab_type": "code",
        "colab": {}
      },
      "cell_type": "code",
      "source": [
        "dice = [1, 2, 3, 4, 5, 6]\n",
        "def throw_dice():\n",
        "  return sum(random.choices(dice, k=2))"
      ],
      "execution_count": 0,
      "outputs": []
    },
    {
      "metadata": {
        "id": "_f7yt5vBPlGk",
        "colab_type": "code",
        "outputId": "f069c92c-4f41-4f07-b8df-88237c7d302a",
        "colab": {
          "base_uri": "https://localhost:8080/",
          "height": 34
        }
      },
      "cell_type": "code",
      "source": [
        "sample_dist = [throw_dice() for _ in range(100000)]\n",
        "mean(sample_dist), stdev(sample_dist)"
      ],
      "execution_count": 0,
      "outputs": [
        {
          "output_type": "execute_result",
          "data": {
            "text/plain": [
              "(6.9962, 2.414589791753172)"
            ]
          },
          "metadata": {
            "tags": []
          },
          "execution_count": 62
        }
      ]
    },
    {
      "metadata": {
        "id": "xQXaMxhKQOxn",
        "colab_type": "code",
        "outputId": "b4072b0f-3e8e-4366-f7ca-2cc2c38e51c3",
        "colab": {
          "base_uri": "https://localhost:8080/",
          "height": 265
        }
      },
      "cell_type": "code",
      "source": [
        "plt.hist(sample_dist);"
      ],
      "execution_count": 0,
      "outputs": [
        {
          "output_type": "display_data",
          "data": {
            "image/png": "[encoded data removed]",
            "text/plain": [
              "<matplotlib.figure.Figure at 0x7f661f128f28>"
            ]
          },
          "metadata": {
            "tags": []
          }
        }
      ]
    },
    {
      "metadata": {
        "id": "8Q0iMN5-LNy7",
        "colab_type": "text"
      },
      "cell_type": "markdown",
      "source": [
        "What is the standard score (z score) of rolling a 10?"
      ]
    },
    {
      "metadata": {
        "id": "9kOLJtxjLNy7",
        "colab_type": "code",
        "outputId": "88d89982-87f0-4809-8aca-08fdd4e2251f",
        "colab": {
          "base_uri": "https://localhost:8080/",
          "height": 34
        }
      },
      "cell_type": "code",
      "source": [
        "z_score = (10 - mean(sample_dist)) / stdev(sample_dist)\n",
        "print(z_score)"
      ],
      "execution_count": 0,
      "outputs": [
        {
          "output_type": "stream",
          "text": [
            "1.2440208313060985\n"
          ],
          "name": "stdout"
        }
      ]
    },
    {
      "metadata": {
        "id": "OXVQVpV0LNy-",
        "colab_type": "text"
      },
      "cell_type": "markdown",
      "source": [
        "What is the probability of rolling a 10 or higher?"
      ]
    },
    {
      "metadata": {
        "id": "YfWhW40YLNy_",
        "colab_type": "code",
        "outputId": "b689b1a3-f29e-48ba-c5fb-e401d38de000",
        "colab": {
          "base_uri": "https://localhost:8080/",
          "height": 34
        }
      },
      "cell_type": "code",
      "source": [
        "p_value = mean(test >= 10 for test in sample_dist)\n",
        "print(p_value)"
      ],
      "execution_count": 0,
      "outputs": [
        {
          "output_type": "stream",
          "text": [
            "0.16631\n"
          ],
          "name": "stdout"
        }
      ]
    },
    {
      "metadata": {
        "id": "p8zeToPqLNzB",
        "colab_type": "text"
      },
      "cell_type": "markdown",
      "source": [
        "# Harvest"
      ]
    },
    {
      "metadata": {
        "id": "xf08Iq7uLNzC",
        "colab_type": "text"
      },
      "cell_type": "markdown",
      "source": [
        "Using bootstrap resampling, calculate the 95% confidence interval for mean apple weight ..."
      ]
    },
    {
      "metadata": {
        "id": "9pjuLKH5LNzC",
        "colab_type": "code",
        "colab": {}
      },
      "cell_type": "code",
      "source": [
        "def bootstrap_sample(items):\n",
        "    # Random resample *with replacement*\n",
        "    return random.choices(items, k=len(items))\n",
        "\n",
        "def percentile(x, p):\n",
        "    # x: List of numbers\n",
        "    # p: Percentile, between 0 and 100\n",
        "    i = round(len(x) * p/100)\n",
        "    return sorted(x)[i]\n",
        "\n",
        "apples = [.5, .4, .5, .6, .3, .7]"
      ],
      "execution_count": 0,
      "outputs": []
    },
    {
      "metadata": {
        "id": "khfyPC0ULNzD",
        "colab_type": "code",
        "outputId": "a73b9267-5bf6-4619-951a-59b2c20de256",
        "colab": {
          "base_uri": "https://localhost:8080/",
          "height": 34
        }
      },
      "cell_type": "code",
      "source": [
        "effect_size = [mean(bootstrap_sample(apples)) for _ in range(100000)]\n",
        "percentile(effect_size, 95)"
      ],
      "execution_count": 0,
      "outputs": [
        {
          "output_type": "execute_result",
          "data": {
            "text/plain": [
              "0.5833333333333333"
            ]
          },
          "metadata": {
            "tags": []
          },
          "execution_count": 28
        }
      ]
    },
    {
      "metadata": {
        "id": "xsqjoIYJLNzH",
        "colab_type": "text"
      },
      "cell_type": "markdown",
      "source": [
        "... and for mean pumpkin weight:"
      ]
    },
    {
      "metadata": {
        "id": "nqXdG9hQLNzH",
        "colab_type": "code",
        "colab": {}
      },
      "cell_type": "code",
      "source": [
        "pumpkins = [1, 1, 1, 3, 3, 591]"
      ],
      "execution_count": 0,
      "outputs": []
    },
    {
      "metadata": {
        "id": "c65JnpNHLNzI",
        "colab_type": "code",
        "outputId": "fa11667d-d0b9-473c-9e7d-1015a021f3d0",
        "colab": {
          "base_uri": "https://localhost:8080/",
          "height": 34
        }
      },
      "cell_type": "code",
      "source": [
        "effect_size = [mean(bootstrap_sample(pumpkins)) for _ in range(100000)]\n",
        "percentile(effect_size, 95)"
      ],
      "execution_count": 0,
      "outputs": [
        {
          "output_type": "execute_result",
          "data": {
            "text/plain": [
              "296.3333333333333"
            ]
          },
          "metadata": {
            "tags": []
          },
          "execution_count": 30
        }
      ]
    },
    {
      "metadata": {
        "id": "T5_rCKUJNjXz",
        "colab_type": "code",
        "colab": {}
      },
      "cell_type": "code",
      "source": [
        ""
      ],
      "execution_count": 0,
      "outputs": []
    }
  ]
}