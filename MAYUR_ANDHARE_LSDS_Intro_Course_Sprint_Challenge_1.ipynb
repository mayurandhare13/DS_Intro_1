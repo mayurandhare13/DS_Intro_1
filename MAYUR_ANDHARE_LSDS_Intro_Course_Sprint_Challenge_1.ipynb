{
  "nbformat": 4,
  "nbformat_minor": 0,
  "metadata": {
    "colab": {
      "name": "MAYUR_ANDHARE_LSDS Intro Course - Sprint Challenge 1",
      "version": "0.3.2",
      "provenance": [],
      "collapsed_sections": [],
      "include_colab_link": true
    },
    "kernelspec": {
      "name": "python3",
      "display_name": "Python 3"
    }
  },
  "cells": [
    {
      "cell_type": "markdown",
      "metadata": {
        "id": "view-in-github",
        "colab_type": "text"
      },
      "source": [
        "<a href=\"https://colab.research.google.com/github/mayurandhare13/LS-Data-Science/blob/master/MAYUR_ANDHARE_LSDS_Intro_Course_Sprint_Challenge_1.ipynb\" target=\"_parent\"><img src=\"https://colab.research.google.com/assets/colab-badge.svg\" alt=\"Open In Colab\"/></a>"
      ]
    },
    {
      "metadata": {
        "id": "pMXmyoxWQjkQ",
        "colab_type": "text"
      },
      "cell_type": "markdown",
      "source": [
        "# 1) Python\n",
        "\n",
        "Write a function that will be passed an integer value. Your function should sum up all the positive integers that are less than or equal to the passed in value. For example, if the number 5 were passed to the function, the function should return 15 because 5+4+3+2+1 = 15. If it were passed 7 it should return 28 because 7+6+5+4+3+2+1 = 28.\n",
        "\n",
        "You can name your function whatever you like. In order to verify what the function is returning, call your function and pass it an integer of your choosing.\n",
        "\n",
        "The following test-cases should all pass: \n",
        "\n",
        "yourFunction(0) => 0\n",
        "\n",
        "yourFunction(1) => 1\n",
        "\n",
        "yourFunction(2) => 3\n",
        "\n",
        "yourFunction(3) => 6\n",
        "\n",
        "yourFunction(4) => 10\n",
        "\n",
        "yourFunction(5) => 15\n"
      ]
    },
    {
      "metadata": {
        "id": "ST5b9zT_QT8e",
        "colab_type": "code",
        "colab": {}
      },
      "cell_type": "code",
      "source": [
        "def sumUp(n):\n",
        "  if (n == 0):\n",
        "    return n\n",
        "  return n + sumUp(n-1)"
      ],
      "execution_count": 0,
      "outputs": []
    },
    {
      "metadata": {
        "id": "G03ycYEqVgPT",
        "colab_type": "code",
        "colab": {
          "base_uri": "https://localhost:8080/",
          "height": 34
        },
        "outputId": "1465f6b2-ce0b-4f1d-9e34-aca1312a21f3"
      },
      "cell_type": "code",
      "source": [
        "sumUp(5)"
      ],
      "execution_count": 48,
      "outputs": [
        {
          "output_type": "execute_result",
          "data": {
            "text/plain": [
              "15"
            ]
          },
          "metadata": {
            "tags": []
          },
          "execution_count": 48
        }
      ]
    },
    {
      "metadata": {
        "id": "ugaT5OYqQjxx",
        "colab_type": "text"
      },
      "cell_type": "markdown",
      "source": [
        "#2) Data Exploration\n",
        "\n",
        "- Import Pandas\n",
        "- Read the CSV found at this URL into a pandas dataframe: \n",
        "    [NFL Plays Dataset](https://raw.githubusercontent.com/ryanleeallred/datasets/master/NFL-Plays-Small.csv)\n",
        "- Output the size of the dataframe\n",
        "- Output the first 5 rows of the dataframe\n",
        "- Find the number of missing values in each column\n",
        "- Fill the NaN (missing) values using [pandas.DataFrame.fillna()](https://pandas.pydata.org/pandas-docs/stable/generated/pandas.DataFrame.fillna.html)\n",
        "- Create a scatterplot using the 'ydstogo' and 'Drive' variables\n",
        "\n",
        "Feel free to add extra text and code cells as necesary."
      ]
    },
    {
      "metadata": {
        "id": "Galp-XM-Q-hp",
        "colab_type": "code",
        "colab": {}
      },
      "cell_type": "code",
      "source": [
        "import pandas as pd\n",
        "from matplotlib import pyplot as plt"
      ],
      "execution_count": 0,
      "outputs": []
    },
    {
      "metadata": {
        "id": "WHOwMaBvVxY_",
        "colab_type": "code",
        "colab": {
          "base_uri": "https://localhost:8080/",
          "height": 34
        },
        "outputId": "f882ec26-88df-4fd4-af26-8fb27f3585ec"
      },
      "cell_type": "code",
      "source": [
        "df = pd.read_csv('https://raw.githubusercontent.com/ryanleeallred/datasets/master/NFL-Plays-Small.csv')\n",
        "df.shape"
      ],
      "execution_count": 16,
      "outputs": [
        {
          "output_type": "execute_result",
          "data": {
            "text/plain": [
              "(10000, 13)"
            ]
          },
          "metadata": {
            "tags": []
          },
          "execution_count": 16
        }
      ]
    },
    {
      "metadata": {
        "id": "phMUBQnBV669",
        "colab_type": "code",
        "colab": {
          "base_uri": "https://localhost:8080/",
          "height": 204
        },
        "outputId": "a0af798e-d707-42de-98cd-8bbbc56b1941"
      },
      "cell_type": "code",
      "source": [
        "df.head(5)"
      ],
      "execution_count": 17,
      "outputs": [
        {
          "output_type": "execute_result",
          "data": {
            "text/html": [
              "<div>\n",
              "<style scoped>\n",
              "    .dataframe tbody tr th:only-of-type {\n",
              "        vertical-align: middle;\n",
              "    }\n",
              "\n",
              "    .dataframe tbody tr th {\n",
              "        vertical-align: top;\n",
              "    }\n",
              "\n",
              "    .dataframe thead th {\n",
              "        text-align: right;\n",
              "    }\n",
              "</style>\n",
              "<table border=\"1\" class=\"dataframe\">\n",
              "  <thead>\n",
              "    <tr style=\"text-align: right;\">\n",
              "      <th></th>\n",
              "      <th>GameID</th>\n",
              "      <th>Drive</th>\n",
              "      <th>qtr</th>\n",
              "      <th>down</th>\n",
              "      <th>time</th>\n",
              "      <th>yrdline100</th>\n",
              "      <th>ydstogo</th>\n",
              "      <th>posteam</th>\n",
              "      <th>DefensiveTeam</th>\n",
              "      <th>Yards.Gained</th>\n",
              "      <th>Touchdown</th>\n",
              "      <th>PlayType</th>\n",
              "      <th>Season</th>\n",
              "    </tr>\n",
              "  </thead>\n",
              "  <tbody>\n",
              "    <tr>\n",
              "      <th>0</th>\n",
              "      <td>2014122806</td>\n",
              "      <td>9</td>\n",
              "      <td>3</td>\n",
              "      <td>1.0</td>\n",
              "      <td>14:57</td>\n",
              "      <td>65.0</td>\n",
              "      <td>10</td>\n",
              "      <td>MIN</td>\n",
              "      <td>CHI</td>\n",
              "      <td>0</td>\n",
              "      <td>0</td>\n",
              "      <td>Pass</td>\n",
              "      <td>2014</td>\n",
              "    </tr>\n",
              "    <tr>\n",
              "      <th>1</th>\n",
              "      <td>2014110600</td>\n",
              "      <td>15</td>\n",
              "      <td>3</td>\n",
              "      <td>1.0</td>\n",
              "      <td>15:00</td>\n",
              "      <td>80.0</td>\n",
              "      <td>10</td>\n",
              "      <td>CLE</td>\n",
              "      <td>CIN</td>\n",
              "      <td>0</td>\n",
              "      <td>0</td>\n",
              "      <td>Run</td>\n",
              "      <td>2014</td>\n",
              "    </tr>\n",
              "    <tr>\n",
              "      <th>2</th>\n",
              "      <td>2013091501</td>\n",
              "      <td>22</td>\n",
              "      <td>4</td>\n",
              "      <td>4.0</td>\n",
              "      <td>07:24</td>\n",
              "      <td>51.0</td>\n",
              "      <td>6</td>\n",
              "      <td>CLE</td>\n",
              "      <td>BAL</td>\n",
              "      <td>0</td>\n",
              "      <td>0</td>\n",
              "      <td>Punt</td>\n",
              "      <td>2013</td>\n",
              "    </tr>\n",
              "    <tr>\n",
              "      <th>3</th>\n",
              "      <td>2017010108</td>\n",
              "      <td>19</td>\n",
              "      <td>3</td>\n",
              "      <td>2.0</td>\n",
              "      <td>01:41</td>\n",
              "      <td>50.0</td>\n",
              "      <td>2</td>\n",
              "      <td>PIT</td>\n",
              "      <td>CLE</td>\n",
              "      <td>9</td>\n",
              "      <td>0</td>\n",
              "      <td>Pass</td>\n",
              "      <td>2016</td>\n",
              "    </tr>\n",
              "    <tr>\n",
              "      <th>4</th>\n",
              "      <td>2017101504</td>\n",
              "      <td>29</td>\n",
              "      <td>4</td>\n",
              "      <td>1.0</td>\n",
              "      <td>04:58</td>\n",
              "      <td>69.0</td>\n",
              "      <td>10</td>\n",
              "      <td>DET</td>\n",
              "      <td>NO</td>\n",
              "      <td>0</td>\n",
              "      <td>0</td>\n",
              "      <td>No Play</td>\n",
              "      <td>2017</td>\n",
              "    </tr>\n",
              "  </tbody>\n",
              "</table>\n",
              "</div>"
            ],
            "text/plain": [
              "       GameID  Drive  qtr  down   time  yrdline100  ydstogo posteam  \\\n",
              "0  2014122806      9    3   1.0  14:57        65.0       10     MIN   \n",
              "1  2014110600     15    3   1.0  15:00        80.0       10     CLE   \n",
              "2  2013091501     22    4   4.0  07:24        51.0        6     CLE   \n",
              "3  2017010108     19    3   2.0  01:41        50.0        2     PIT   \n",
              "4  2017101504     29    4   1.0  04:58        69.0       10     DET   \n",
              "\n",
              "  DefensiveTeam  Yards.Gained  Touchdown PlayType  Season  \n",
              "0           CHI             0          0     Pass    2014  \n",
              "1           CIN             0          0      Run    2014  \n",
              "2           BAL             0          0     Punt    2013  \n",
              "3           CLE             9          0     Pass    2016  \n",
              "4            NO             0          0  No Play    2017  "
            ]
          },
          "metadata": {
            "tags": []
          },
          "execution_count": 17
        }
      ]
    },
    {
      "metadata": {
        "id": "DmVEOVaGV-Q4",
        "colab_type": "code",
        "colab": {
          "base_uri": "https://localhost:8080/",
          "height": 297
        },
        "outputId": "621625e2-9513-4e48-9067-3f9cc31aa06a"
      },
      "cell_type": "code",
      "source": [
        "df.describe()"
      ],
      "execution_count": 18,
      "outputs": [
        {
          "output_type": "execute_result",
          "data": {
            "text/html": [
              "<div>\n",
              "<style scoped>\n",
              "    .dataframe tbody tr th:only-of-type {\n",
              "        vertical-align: middle;\n",
              "    }\n",
              "\n",
              "    .dataframe tbody tr th {\n",
              "        vertical-align: top;\n",
              "    }\n",
              "\n",
              "    .dataframe thead th {\n",
              "        text-align: right;\n",
              "    }\n",
              "</style>\n",
              "<table border=\"1\" class=\"dataframe\">\n",
              "  <thead>\n",
              "    <tr style=\"text-align: right;\">\n",
              "      <th></th>\n",
              "      <th>GameID</th>\n",
              "      <th>Drive</th>\n",
              "      <th>qtr</th>\n",
              "      <th>down</th>\n",
              "      <th>yrdline100</th>\n",
              "      <th>ydstogo</th>\n",
              "      <th>Yards.Gained</th>\n",
              "      <th>Touchdown</th>\n",
              "      <th>Season</th>\n",
              "    </tr>\n",
              "  </thead>\n",
              "  <tbody>\n",
              "    <tr>\n",
              "      <th>count</th>\n",
              "      <td>1.000000e+04</td>\n",
              "      <td>10000.000000</td>\n",
              "      <td>10000.000000</td>\n",
              "      <td>8505.000000</td>\n",
              "      <td>9984.000000</td>\n",
              "      <td>10000.000000</td>\n",
              "      <td>10000.000000</td>\n",
              "      <td>10000.000000</td>\n",
              "      <td>10000.000000</td>\n",
              "    </tr>\n",
              "    <tr>\n",
              "      <th>mean</th>\n",
              "      <td>2.013197e+09</td>\n",
              "      <td>12.385100</td>\n",
              "      <td>2.574800</td>\n",
              "      <td>2.001764</td>\n",
              "      <td>48.762520</td>\n",
              "      <td>7.329600</td>\n",
              "      <td>4.814000</td>\n",
              "      <td>0.027400</td>\n",
              "      <td>2013.057700</td>\n",
              "    </tr>\n",
              "    <tr>\n",
              "      <th>std</th>\n",
              "      <td>2.573354e+06</td>\n",
              "      <td>7.257194</td>\n",
              "      <td>1.141111</td>\n",
              "      <td>0.998527</td>\n",
              "      <td>25.035069</td>\n",
              "      <td>4.873514</td>\n",
              "      <td>8.761819</td>\n",
              "      <td>0.163254</td>\n",
              "      <td>2.579309</td>\n",
              "    </tr>\n",
              "    <tr>\n",
              "      <th>min</th>\n",
              "      <td>2.009091e+09</td>\n",
              "      <td>1.000000</td>\n",
              "      <td>1.000000</td>\n",
              "      <td>1.000000</td>\n",
              "      <td>1.000000</td>\n",
              "      <td>0.000000</td>\n",
              "      <td>-28.000000</td>\n",
              "      <td>0.000000</td>\n",
              "      <td>2009.000000</td>\n",
              "    </tr>\n",
              "    <tr>\n",
              "      <th>25%</th>\n",
              "      <td>2.011102e+09</td>\n",
              "      <td>6.000000</td>\n",
              "      <td>2.000000</td>\n",
              "      <td>1.000000</td>\n",
              "      <td>30.000000</td>\n",
              "      <td>3.000000</td>\n",
              "      <td>0.000000</td>\n",
              "      <td>0.000000</td>\n",
              "      <td>2011.000000</td>\n",
              "    </tr>\n",
              "    <tr>\n",
              "      <th>50%</th>\n",
              "      <td>2.013112e+09</td>\n",
              "      <td>12.000000</td>\n",
              "      <td>3.000000</td>\n",
              "      <td>2.000000</td>\n",
              "      <td>50.000000</td>\n",
              "      <td>9.000000</td>\n",
              "      <td>1.000000</td>\n",
              "      <td>0.000000</td>\n",
              "      <td>2013.000000</td>\n",
              "    </tr>\n",
              "    <tr>\n",
              "      <th>75%</th>\n",
              "      <td>2.015121e+09</td>\n",
              "      <td>18.000000</td>\n",
              "      <td>4.000000</td>\n",
              "      <td>3.000000</td>\n",
              "      <td>70.000000</td>\n",
              "      <td>10.000000</td>\n",
              "      <td>7.000000</td>\n",
              "      <td>0.000000</td>\n",
              "      <td>2015.000000</td>\n",
              "    </tr>\n",
              "    <tr>\n",
              "      <th>max</th>\n",
              "      <td>2.017123e+09</td>\n",
              "      <td>35.000000</td>\n",
              "      <td>5.000000</td>\n",
              "      <td>4.000000</td>\n",
              "      <td>99.000000</td>\n",
              "      <td>40.000000</td>\n",
              "      <td>98.000000</td>\n",
              "      <td>1.000000</td>\n",
              "      <td>2017.000000</td>\n",
              "    </tr>\n",
              "  </tbody>\n",
              "</table>\n",
              "</div>"
            ],
            "text/plain": [
              "             GameID         Drive           qtr         down   yrdline100  \\\n",
              "count  1.000000e+04  10000.000000  10000.000000  8505.000000  9984.000000   \n",
              "mean   2.013197e+09     12.385100      2.574800     2.001764    48.762520   \n",
              "std    2.573354e+06      7.257194      1.141111     0.998527    25.035069   \n",
              "min    2.009091e+09      1.000000      1.000000     1.000000     1.000000   \n",
              "25%    2.011102e+09      6.000000      2.000000     1.000000    30.000000   \n",
              "50%    2.013112e+09     12.000000      3.000000     2.000000    50.000000   \n",
              "75%    2.015121e+09     18.000000      4.000000     3.000000    70.000000   \n",
              "max    2.017123e+09     35.000000      5.000000     4.000000    99.000000   \n",
              "\n",
              "            ydstogo  Yards.Gained     Touchdown        Season  \n",
              "count  10000.000000  10000.000000  10000.000000  10000.000000  \n",
              "mean       7.329600      4.814000      0.027400   2013.057700  \n",
              "std        4.873514      8.761819      0.163254      2.579309  \n",
              "min        0.000000    -28.000000      0.000000   2009.000000  \n",
              "25%        3.000000      0.000000      0.000000   2011.000000  \n",
              "50%        9.000000      1.000000      0.000000   2013.000000  \n",
              "75%       10.000000      7.000000      0.000000   2015.000000  \n",
              "max       40.000000     98.000000      1.000000   2017.000000  "
            ]
          },
          "metadata": {
            "tags": []
          },
          "execution_count": 18
        }
      ]
    },
    {
      "metadata": {
        "id": "SExO0687WEKr",
        "colab_type": "code",
        "colab": {
          "base_uri": "https://localhost:8080/",
          "height": 255
        },
        "outputId": "5187e982-16ae-4399-b4a4-f53eedb3bee4"
      },
      "cell_type": "code",
      "source": [
        "df.isna().sum()"
      ],
      "execution_count": 19,
      "outputs": [
        {
          "output_type": "execute_result",
          "data": {
            "text/plain": [
              "GameID              0\n",
              "Drive               0\n",
              "qtr                 0\n",
              "down             1495\n",
              "time                4\n",
              "yrdline100         16\n",
              "ydstogo             0\n",
              "posteam           624\n",
              "DefensiveTeam     624\n",
              "Yards.Gained        0\n",
              "Touchdown           0\n",
              "PlayType            0\n",
              "Season              0\n",
              "dtype: int64"
            ]
          },
          "metadata": {
            "tags": []
          },
          "execution_count": 19
        }
      ]
    },
    {
      "metadata": {
        "id": "29H-gP7qWJvm",
        "colab_type": "code",
        "colab": {
          "base_uri": "https://localhost:8080/",
          "height": 255
        },
        "outputId": "23f247f9-eb52-46ed-e275-6672d938445e"
      },
      "cell_type": "code",
      "source": [
        "df.down = df.down.fillna(df.down.mean())\n",
        "df.time = df.time.fillna(method='ffill')\n",
        "df.yrdline100 = df.yrdline100.fillna(df.yrdline100.mean())\n",
        "df.posteam = df.posteam.fillna(method='ffill')\n",
        "df.DefensiveTeam = df.DefensiveTeam.fillna(method='bfill')\n",
        "df.isna().sum()"
      ],
      "execution_count": 22,
      "outputs": [
        {
          "output_type": "execute_result",
          "data": {
            "text/plain": [
              "GameID           0\n",
              "Drive            0\n",
              "qtr              0\n",
              "down             0\n",
              "time             0\n",
              "yrdline100       0\n",
              "ydstogo          0\n",
              "posteam          0\n",
              "DefensiveTeam    0\n",
              "Yards.Gained     0\n",
              "Touchdown        0\n",
              "PlayType         0\n",
              "Season           0\n",
              "dtype: int64"
            ]
          },
          "metadata": {
            "tags": []
          },
          "execution_count": 22
        }
      ]
    },
    {
      "metadata": {
        "id": "iu9BRY5WXuY3",
        "colab_type": "code",
        "colab": {
          "base_uri": "https://localhost:8080/",
          "height": 376
        },
        "outputId": "6a62bbb8-6e77-41b3-d2f0-68852943cef4"
      },
      "cell_type": "code",
      "source": [
        "plt.scatter(df.ydstogo, df.Drive);\n",
        "plt.xlabel('ydstogo')\n",
        "plt.ylabel('Drive')\n",
        "plt.title(\"Drive vs ydstogo\")\n",
        "plt.show()"
      ],
      "execution_count": 27,
      "outputs": [
        {
          "output_type": "display_data",
          "data": {
            "image/png": "[encoded data removed]",
            "text/plain": [
              "<matplotlib.figure.Figure at 0x7fe102cdd898>"
            ]
          },
          "metadata": {
            "tags": []
          }
        }
      ]
    },
    {
      "metadata": {
        "id": "Ssj2xa77Qj0i",
        "colab_type": "text"
      },
      "cell_type": "markdown",
      "source": [
        "# 3) Statistics\n",
        "\n",
        "- Calculate the Mean, Median, and Mode of the \"Drives\" column \n",
        "- Create a histogram to show the distribution of the \"Drives\" column.\n",
        "\n",
        "Feel free to add extra text and code cells as necesary."
      ]
    },
    {
      "metadata": {
        "id": "DpWeRifPQ-6t",
        "colab_type": "code",
        "colab": {
          "base_uri": "https://localhost:8080/",
          "height": 51
        },
        "outputId": "e1205b49-24fd-45ad-9c95-dee2a48b9739"
      },
      "cell_type": "code",
      "source": [
        "df.Drive.mean(), df.Drive.median(), df.Drive.mode()"
      ],
      "execution_count": 47,
      "outputs": [
        {
          "output_type": "execute_result",
          "data": {
            "text/plain": [
              "(12.3851, 12.0, 0    1\n",
              " dtype: int64)"
            ]
          },
          "metadata": {
            "tags": []
          },
          "execution_count": 47
        }
      ]
    },
    {
      "metadata": {
        "id": "4u8VUPg8ZRqq",
        "colab_type": "code",
        "colab": {
          "base_uri": "https://localhost:8080/",
          "height": 347
        },
        "outputId": "cb98a10d-b6f4-4d51-f8cb-743f1869ebc8"
      },
      "cell_type": "code",
      "source": [
        "plt.hist(df.Drive);"
      ],
      "execution_count": 44,
      "outputs": [
        {
          "output_type": "display_data",
          "data": {
            "image/png": "[encoded data removed]",
            "text/plain": [
              "<matplotlib.figure.Figure at 0x7fe102b69588>"
            ]
          },
          "metadata": {
            "tags": []
          }
        }
      ]
    },
    {
      "metadata": {
        "id": "7kvrIrc9Qj3D",
        "colab_type": "text"
      },
      "cell_type": "markdown",
      "source": [
        "#4) Hypothesis Testing\n",
        "\n",
        "- Print the summary statistics of the dataset using the [.describe()](https://pandas.pydata.org/pandas-docs/stable/generated/pandas.DataFrame.describe.html) function (This should help you check the work you did above)\n",
        "- Use a method other than the .describe() function to calculate the standard deviation of the \"Drive\" column.\n",
        "- How many standard deviations away from the mean is a value of 20 Drives?\n",
        "- What would be the corresponding standard score (z-score) for a value of 20 Drives? \n",
        "\n",
        "Feel free to add extra text and code cells as necesary."
      ]
    },
    {
      "metadata": {
        "id": "XnQBEdZ8Q_bj",
        "colab_type": "code",
        "colab": {
          "base_uri": "https://localhost:8080/",
          "height": 297
        },
        "outputId": "2aa24021-2ae5-4fee-9c1b-24923b8f3745"
      },
      "cell_type": "code",
      "source": [
        "df.describe()"
      ],
      "execution_count": 49,
      "outputs": [
        {
          "output_type": "execute_result",
          "data": {
            "text/html": [
              "<div>\n",
              "<style scoped>\n",
              "    .dataframe tbody tr th:only-of-type {\n",
              "        vertical-align: middle;\n",
              "    }\n",
              "\n",
              "    .dataframe tbody tr th {\n",
              "        vertical-align: top;\n",
              "    }\n",
              "\n",
              "    .dataframe thead th {\n",
              "        text-align: right;\n",
              "    }\n",
              "</style>\n",
              "<table border=\"1\" class=\"dataframe\">\n",
              "  <thead>\n",
              "    <tr style=\"text-align: right;\">\n",
              "      <th></th>\n",
              "      <th>GameID</th>\n",
              "      <th>Drive</th>\n",
              "      <th>qtr</th>\n",
              "      <th>down</th>\n",
              "      <th>yrdline100</th>\n",
              "      <th>ydstogo</th>\n",
              "      <th>Yards.Gained</th>\n",
              "      <th>Touchdown</th>\n",
              "      <th>Season</th>\n",
              "    </tr>\n",
              "  </thead>\n",
              "  <tbody>\n",
              "    <tr>\n",
              "      <th>count</th>\n",
              "      <td>1.000000e+04</td>\n",
              "      <td>10000.000000</td>\n",
              "      <td>10000.000000</td>\n",
              "      <td>10000.000000</td>\n",
              "      <td>10000.000000</td>\n",
              "      <td>10000.000000</td>\n",
              "      <td>10000.000000</td>\n",
              "      <td>10000.000000</td>\n",
              "      <td>10000.000000</td>\n",
              "    </tr>\n",
              "    <tr>\n",
              "      <th>mean</th>\n",
              "      <td>2.013197e+09</td>\n",
              "      <td>12.385100</td>\n",
              "      <td>2.574800</td>\n",
              "      <td>2.001764</td>\n",
              "      <td>48.762520</td>\n",
              "      <td>7.329600</td>\n",
              "      <td>4.814000</td>\n",
              "      <td>0.027400</td>\n",
              "      <td>2013.057700</td>\n",
              "    </tr>\n",
              "    <tr>\n",
              "      <th>std</th>\n",
              "      <td>2.573354e+06</td>\n",
              "      <td>7.257194</td>\n",
              "      <td>1.141111</td>\n",
              "      <td>0.920859</td>\n",
              "      <td>25.015031</td>\n",
              "      <td>4.873514</td>\n",
              "      <td>8.761819</td>\n",
              "      <td>0.163254</td>\n",
              "      <td>2.579309</td>\n",
              "    </tr>\n",
              "    <tr>\n",
              "      <th>min</th>\n",
              "      <td>2.009091e+09</td>\n",
              "      <td>1.000000</td>\n",
              "      <td>1.000000</td>\n",
              "      <td>1.000000</td>\n",
              "      <td>1.000000</td>\n",
              "      <td>0.000000</td>\n",
              "      <td>-28.000000</td>\n",
              "      <td>0.000000</td>\n",
              "      <td>2009.000000</td>\n",
              "    </tr>\n",
              "    <tr>\n",
              "      <th>25%</th>\n",
              "      <td>2.011102e+09</td>\n",
              "      <td>6.000000</td>\n",
              "      <td>2.000000</td>\n",
              "      <td>1.000000</td>\n",
              "      <td>30.000000</td>\n",
              "      <td>3.000000</td>\n",
              "      <td>0.000000</td>\n",
              "      <td>0.000000</td>\n",
              "      <td>2011.000000</td>\n",
              "    </tr>\n",
              "    <tr>\n",
              "      <th>50%</th>\n",
              "      <td>2.013112e+09</td>\n",
              "      <td>12.000000</td>\n",
              "      <td>3.000000</td>\n",
              "      <td>2.000000</td>\n",
              "      <td>50.000000</td>\n",
              "      <td>9.000000</td>\n",
              "      <td>1.000000</td>\n",
              "      <td>0.000000</td>\n",
              "      <td>2013.000000</td>\n",
              "    </tr>\n",
              "    <tr>\n",
              "      <th>75%</th>\n",
              "      <td>2.015121e+09</td>\n",
              "      <td>18.000000</td>\n",
              "      <td>4.000000</td>\n",
              "      <td>3.000000</td>\n",
              "      <td>70.000000</td>\n",
              "      <td>10.000000</td>\n",
              "      <td>7.000000</td>\n",
              "      <td>0.000000</td>\n",
              "      <td>2015.000000</td>\n",
              "    </tr>\n",
              "    <tr>\n",
              "      <th>max</th>\n",
              "      <td>2.017123e+09</td>\n",
              "      <td>35.000000</td>\n",
              "      <td>5.000000</td>\n",
              "      <td>4.000000</td>\n",
              "      <td>99.000000</td>\n",
              "      <td>40.000000</td>\n",
              "      <td>98.000000</td>\n",
              "      <td>1.000000</td>\n",
              "      <td>2017.000000</td>\n",
              "    </tr>\n",
              "  </tbody>\n",
              "</table>\n",
              "</div>"
            ],
            "text/plain": [
              "             GameID         Drive           qtr          down    yrdline100  \\\n",
              "count  1.000000e+04  10000.000000  10000.000000  10000.000000  10000.000000   \n",
              "mean   2.013197e+09     12.385100      2.574800      2.001764     48.762520   \n",
              "std    2.573354e+06      7.257194      1.141111      0.920859     25.015031   \n",
              "min    2.009091e+09      1.000000      1.000000      1.000000      1.000000   \n",
              "25%    2.011102e+09      6.000000      2.000000      1.000000     30.000000   \n",
              "50%    2.013112e+09     12.000000      3.000000      2.000000     50.000000   \n",
              "75%    2.015121e+09     18.000000      4.000000      3.000000     70.000000   \n",
              "max    2.017123e+09     35.000000      5.000000      4.000000     99.000000   \n",
              "\n",
              "            ydstogo  Yards.Gained     Touchdown        Season  \n",
              "count  10000.000000  10000.000000  10000.000000  10000.000000  \n",
              "mean       7.329600      4.814000      0.027400   2013.057700  \n",
              "std        4.873514      8.761819      0.163254      2.579309  \n",
              "min        0.000000    -28.000000      0.000000   2009.000000  \n",
              "25%        3.000000      0.000000      0.000000   2011.000000  \n",
              "50%        9.000000      1.000000      0.000000   2013.000000  \n",
              "75%       10.000000      7.000000      0.000000   2015.000000  \n",
              "max       40.000000     98.000000      1.000000   2017.000000  "
            ]
          },
          "metadata": {
            "tags": []
          },
          "execution_count": 49
        }
      ]
    },
    {
      "metadata": {
        "id": "l45uSEwMbO-s",
        "colab_type": "code",
        "colab": {
          "base_uri": "https://localhost:8080/",
          "height": 34
        },
        "outputId": "3d406438-6b2f-4fc6-dc87-b43941579ac8"
      },
      "cell_type": "code",
      "source": [
        "df.Drive.std()"
      ],
      "execution_count": 50,
      "outputs": [
        {
          "output_type": "execute_result",
          "data": {
            "text/plain": [
              "7.25719399468332"
            ]
          },
          "metadata": {
            "tags": []
          },
          "execution_count": 50
        }
      ]
    },
    {
      "metadata": {
        "id": "DgleT18Pg2nF",
        "colab_type": "code",
        "colab": {}
      },
      "cell_type": "code",
      "source": [
        "def calc_mean(numbers):\n",
        "  return sum(numbers) / len(numbers)"
      ],
      "execution_count": 0,
      "outputs": []
    },
    {
      "metadata": {
        "id": "hybhlBXIgG8D",
        "colab_type": "code",
        "colab": {
          "base_uri": "https://localhost:8080/",
          "height": 34
        },
        "outputId": "3a6db6db-35df-4855-9ffa-5dfd616347e2"
      },
      "cell_type": "code",
      "source": [
        "X = []\n",
        "for _ in range(df.Drive.size*10):\n",
        "  X.append(random.choice(list(df.Drive)))\n",
        "  \n",
        "print(len(X))"
      ],
      "execution_count": 75,
      "outputs": [
        {
          "output_type": "stream",
          "text": [
            "100000\n"
          ],
          "name": "stdout"
        }
      ]
    },
    {
      "metadata": {
        "id": "gZ1YHhIIgeN5",
        "colab_type": "code",
        "colab": {}
      },
      "cell_type": "code",
      "source": [
        "Drive_means = []\n",
        "for _ in range(1000):\n",
        "  sample = (random.sample(X, 10000))\n",
        "  Drive_means.append(calc_mean(sample))\n"
      ],
      "execution_count": 0,
      "outputs": []
    },
    {
      "metadata": {
        "id": "qDklKGQLhARq",
        "colab_type": "code",
        "colab": {
          "base_uri": "https://localhost:8080/",
          "height": 347
        },
        "outputId": "43bfeda6-60bf-4d24-adbf-dc09f6480569"
      },
      "cell_type": "code",
      "source": [
        "plt.hist(X);"
      ],
      "execution_count": 80,
      "outputs": [
        {
          "output_type": "display_data",
          "data": {
            "image/png": "[encoded data removed]",
            "text/plain": [
              "<matplotlib.figure.Figure at 0x7fe0fe28dbe0>"
            ]
          },
          "metadata": {
            "tags": []
          }
        }
      ]
    },
    {
      "metadata": {
        "id": "IR_nCqKweeh-",
        "colab_type": "code",
        "colab": {
          "base_uri": "https://localhost:8080/",
          "height": 34
        },
        "outputId": "0d6cd003-498c-4483-cff5-42da25f6e0d6"
      },
      "cell_type": "code",
      "source": [
        "std_score = (20-mean(X)) / df.Drive.std()\n",
        "print(std_score)"
      ],
      "execution_count": 81,
      "outputs": [
        {
          "output_type": "stream",
          "text": [
            "1.0460695973625094\n"
          ],
          "name": "stdout"
        }
      ]
    },
    {
      "metadata": {
        "id": "SSBU6Ypdccgw",
        "colab_type": "code",
        "colab": {}
      },
      "cell_type": "code",
      "source": [
        ""
      ],
      "execution_count": 0,
      "outputs": []
    }
  ]
}