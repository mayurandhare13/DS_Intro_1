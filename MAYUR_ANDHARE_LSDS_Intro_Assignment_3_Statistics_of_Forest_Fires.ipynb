{
  "nbformat": 4,
  "nbformat_minor": 0,
  "metadata": {
    "colab": {
      "name": "MAYUR_ANDHARE_LSDS Intro Assignment 3 - Statistics of Forest Fires.ipynb",
      "version": "0.3.2",
      "provenance": [],
      "include_colab_link": true
    },
    "kernelspec": {
      "name": "python3",
      "display_name": "Python 3"
    }
  },
  "cells": [
    {
      "cell_type": "markdown",
      "metadata": {
        "id": "view-in-github",
        "colab_type": "text"
      },
      "source": [
        "<a href=\"https://colab.research.google.com/github/mayurandhare13/LSDS_Python_Intro/blob/master/MAYUR_ANDHARE_LSDS_Intro_Assignment_3_Statistics_of_Forest_Fires.ipynb\" target=\"_parent\"><img src=\"https://colab.research.google.com/assets/colab-badge.svg\" alt=\"Open In Colab\"/></a>"
      ]
    },
    {
      "metadata": {
        "id": "uKYVNFs44mfD",
        "colab_type": "text"
      },
      "cell_type": "markdown",
      "source": [
        "# Lambda School Data Science - Forest Fire Statistics\n",
        "\n",
        "![Forest fire](https://www.publicdomainpictures.net/pictures/220000/velka/forest-fire.jpg)\n",
        "\n",
        "Forest fires are a sadly timely topic, but data can help us better understand and perhaps manage them in future. In this assignment you'll look at a data set of forest fires in Portugal during 2007 - this is a real research dataset, and you can [read more about it](https://archive.ics.uci.edu/ml/datasets/Forest+Fires) though you do not need to for this assignment.\n",
        "\n",
        "For our purposes, the main thing that you need to understand are the attributes in the data.\n",
        "\n",
        "1. X - x-axis spatial coordinate within the Montesinho park map: 1 to 9\n",
        "2. Y - y-axis spatial coordinate within the Montesinho park map: 2 to 9\n",
        "3. month - month of the year: 'jan' to 'dec'\n",
        "4. day - day of the week: 'mon' to 'sun'\n",
        "5. FFMC - FFMC index from the FWI system: 18.7 to 96.20\n",
        "6. DMC - DMC index from the FWI system: 1.1 to 291.3\n",
        "7. DC - DC index from the FWI system: 7.9 to 860.6\n",
        "8. ISI - ISI index from the FWI system: 0.0 to 56.10\n",
        "9. temp - temperature in Celsius degrees: 2.2 to 33.30\n",
        "10. RH - relative humidity in %: 15.0 to 100\n",
        "11. wind - wind speed in km/h: 0.40 to 9.40\n",
        "12. rain - outside rain in mm/m2 : 0.0 to 6.4\n",
        "13. area - the burned area of the forest (in ha): 0.00 to 1090.84 \n",
        "\n",
        "Most of these features are numeric - this means we can do things like look at their mean, median, mode, and plot histograms. They have technical sounding names, but generally refer to meteorological data (i.e. the weather).\n",
        "\n",
        "For the discrete features we can still draw histograms (as in the lecture notebook). X and Y are already integer values - month and day do have natural order, but if you want to use them you may want to translate them from strings to numbers (hint - you can build a dict that maps them, and loop over to apply it)."
      ]
    },
    {
      "metadata": {
        "id": "2hdt1i4H6gQ2",
        "colab_type": "text"
      },
      "cell_type": "markdown",
      "source": [
        "## Exercise 1 - Load the data and take a peek\n",
        "\n",
        "The data is accessible as a CSV at the URL: https://archive.ics.uci.edu/ml/machine-learning-databases/forest-fires/forestfires.csv\n",
        "\n",
        "You want to load this into a dataframe, so you can then look at the variables and perform descriptive statistics.\n",
        "\n",
        "After you load it, verify that you've got it working by printing the first five rows of data."
      ]
    },
    {
      "metadata": {
        "id": "s1ZQrmPs282o",
        "colab_type": "code",
        "colab": {}
      },
      "cell_type": "code",
      "source": [
        "import pandas as pd\n",
        "df = pd.read_csv('https://archive.ics.uci.edu/ml/machine-learning-databases/forest-fires/forestfires.csv')"
      ],
      "execution_count": 0,
      "outputs": []
    },
    {
      "metadata": {
        "id": "H82vSWGC6-Ui",
        "colab_type": "text"
      },
      "cell_type": "markdown",
      "source": [
        "## Exercise 2 - Explore and summarize the data\n",
        "\n",
        "Now that you've got the data, take a deeper look at it - the description above gives the overall range (from minimum to maximum), but look at the other core statistics. You should pick three variables you want to look at - two continuous, and one discrete, and for each you should calculate the mean and median.\n",
        "\n",
        "Don't use the magic built-in functions of pandas or other libraries - write your own functions to calculate mean and median (you can of course refer to the lecture notebooks for help). This is a good exercise both to practice coding and reinforce the statistical concepts.\n",
        "\n",
        "For each of the three variables you look at, answer the following questions (as comments in your code):\n",
        "\n",
        "- Is the median larger or smaller than the mean?\n",
        "- What does that tell you about how the variable is distributed?\n",
        "- (For the discrete variable only) What is the mode?\n",
        "\n",
        "Hint - it may help to draw a histogram to look at the variable and really get a feel for it.\n",
        "\n",
        "Another hint - part of this exercise is making sure you can distinguish between continuous and discrete variables, so take some time to think through your choice of variables."
      ]
    },
    {
      "metadata": {
        "id": "-1kRDjw9xCya",
        "colab_type": "code",
        "colab": {
          "base_uri": "https://localhost:8080/",
          "height": 34
        },
        "outputId": "3aa44953-a43a-4d1c-d15a-47f5612ce49e"
      },
      "cell_type": "code",
      "source": [
        "df.shape"
      ],
      "execution_count": 2,
      "outputs": [
        {
          "output_type": "execute_result",
          "data": {
            "text/plain": [
              "(517, 13)"
            ]
          },
          "metadata": {
            "tags": []
          },
          "execution_count": 2
        }
      ]
    },
    {
      "metadata": {
        "id": "stMRpRK5xFwr",
        "colab_type": "code",
        "colab": {
          "base_uri": "https://localhost:8080/",
          "height": 297
        },
        "outputId": "b385edd8-651f-4a6e-983c-868bf0fa3a26"
      },
      "cell_type": "code",
      "source": [
        "df.describe()"
      ],
      "execution_count": 3,
      "outputs": [
        {
          "output_type": "execute_result",
          "data": {
            "text/html": [
              "<div>\n",
              "<style scoped>\n",
              "    .dataframe tbody tr th:only-of-type {\n",
              "        vertical-align: middle;\n",
              "    }\n",
              "\n",
              "    .dataframe tbody tr th {\n",
              "        vertical-align: top;\n",
              "    }\n",
              "\n",
              "    .dataframe thead th {\n",
              "        text-align: right;\n",
              "    }\n",
              "</style>\n",
              "<table border=\"1\" class=\"dataframe\">\n",
              "  <thead>\n",
              "    <tr style=\"text-align: right;\">\n",
              "      <th></th>\n",
              "      <th>X</th>\n",
              "      <th>Y</th>\n",
              "      <th>FFMC</th>\n",
              "      <th>DMC</th>\n",
              "      <th>DC</th>\n",
              "      <th>ISI</th>\n",
              "      <th>temp</th>\n",
              "      <th>RH</th>\n",
              "      <th>wind</th>\n",
              "      <th>rain</th>\n",
              "      <th>area</th>\n",
              "    </tr>\n",
              "  </thead>\n",
              "  <tbody>\n",
              "    <tr>\n",
              "      <th>count</th>\n",
              "      <td>517.000000</td>\n",
              "      <td>517.000000</td>\n",
              "      <td>517.000000</td>\n",
              "      <td>517.000000</td>\n",
              "      <td>517.000000</td>\n",
              "      <td>517.000000</td>\n",
              "      <td>517.000000</td>\n",
              "      <td>517.000000</td>\n",
              "      <td>517.000000</td>\n",
              "      <td>517.000000</td>\n",
              "      <td>517.000000</td>\n",
              "    </tr>\n",
              "    <tr>\n",
              "      <th>mean</th>\n",
              "      <td>4.669246</td>\n",
              "      <td>4.299807</td>\n",
              "      <td>90.644681</td>\n",
              "      <td>110.872340</td>\n",
              "      <td>547.940039</td>\n",
              "      <td>9.021663</td>\n",
              "      <td>18.889168</td>\n",
              "      <td>44.288201</td>\n",
              "      <td>4.017602</td>\n",
              "      <td>0.021663</td>\n",
              "      <td>12.847292</td>\n",
              "    </tr>\n",
              "    <tr>\n",
              "      <th>std</th>\n",
              "      <td>2.313778</td>\n",
              "      <td>1.229900</td>\n",
              "      <td>5.520111</td>\n",
              "      <td>64.046482</td>\n",
              "      <td>248.066192</td>\n",
              "      <td>4.559477</td>\n",
              "      <td>5.806625</td>\n",
              "      <td>16.317469</td>\n",
              "      <td>1.791653</td>\n",
              "      <td>0.295959</td>\n",
              "      <td>63.655818</td>\n",
              "    </tr>\n",
              "    <tr>\n",
              "      <th>min</th>\n",
              "      <td>1.000000</td>\n",
              "      <td>2.000000</td>\n",
              "      <td>18.700000</td>\n",
              "      <td>1.100000</td>\n",
              "      <td>7.900000</td>\n",
              "      <td>0.000000</td>\n",
              "      <td>2.200000</td>\n",
              "      <td>15.000000</td>\n",
              "      <td>0.400000</td>\n",
              "      <td>0.000000</td>\n",
              "      <td>0.000000</td>\n",
              "    </tr>\n",
              "    <tr>\n",
              "      <th>25%</th>\n",
              "      <td>3.000000</td>\n",
              "      <td>4.000000</td>\n",
              "      <td>90.200000</td>\n",
              "      <td>68.600000</td>\n",
              "      <td>437.700000</td>\n",
              "      <td>6.500000</td>\n",
              "      <td>15.500000</td>\n",
              "      <td>33.000000</td>\n",
              "      <td>2.700000</td>\n",
              "      <td>0.000000</td>\n",
              "      <td>0.000000</td>\n",
              "    </tr>\n",
              "    <tr>\n",
              "      <th>50%</th>\n",
              "      <td>4.000000</td>\n",
              "      <td>4.000000</td>\n",
              "      <td>91.600000</td>\n",
              "      <td>108.300000</td>\n",
              "      <td>664.200000</td>\n",
              "      <td>8.400000</td>\n",
              "      <td>19.300000</td>\n",
              "      <td>42.000000</td>\n",
              "      <td>4.000000</td>\n",
              "      <td>0.000000</td>\n",
              "      <td>0.520000</td>\n",
              "    </tr>\n",
              "    <tr>\n",
              "      <th>75%</th>\n",
              "      <td>7.000000</td>\n",
              "      <td>5.000000</td>\n",
              "      <td>92.900000</td>\n",
              "      <td>142.400000</td>\n",
              "      <td>713.900000</td>\n",
              "      <td>10.800000</td>\n",
              "      <td>22.800000</td>\n",
              "      <td>53.000000</td>\n",
              "      <td>4.900000</td>\n",
              "      <td>0.000000</td>\n",
              "      <td>6.570000</td>\n",
              "    </tr>\n",
              "    <tr>\n",
              "      <th>max</th>\n",
              "      <td>9.000000</td>\n",
              "      <td>9.000000</td>\n",
              "      <td>96.200000</td>\n",
              "      <td>291.300000</td>\n",
              "      <td>860.600000</td>\n",
              "      <td>56.100000</td>\n",
              "      <td>33.300000</td>\n",
              "      <td>100.000000</td>\n",
              "      <td>9.400000</td>\n",
              "      <td>6.400000</td>\n",
              "      <td>1090.840000</td>\n",
              "    </tr>\n",
              "  </tbody>\n",
              "</table>\n",
              "</div>"
            ],
            "text/plain": [
              "                X           Y        FFMC         DMC          DC         ISI  \\\n",
              "count  517.000000  517.000000  517.000000  517.000000  517.000000  517.000000   \n",
              "mean     4.669246    4.299807   90.644681  110.872340  547.940039    9.021663   \n",
              "std      2.313778    1.229900    5.520111   64.046482  248.066192    4.559477   \n",
              "min      1.000000    2.000000   18.700000    1.100000    7.900000    0.000000   \n",
              "25%      3.000000    4.000000   90.200000   68.600000  437.700000    6.500000   \n",
              "50%      4.000000    4.000000   91.600000  108.300000  664.200000    8.400000   \n",
              "75%      7.000000    5.000000   92.900000  142.400000  713.900000   10.800000   \n",
              "max      9.000000    9.000000   96.200000  291.300000  860.600000   56.100000   \n",
              "\n",
              "             temp          RH        wind        rain         area  \n",
              "count  517.000000  517.000000  517.000000  517.000000   517.000000  \n",
              "mean    18.889168   44.288201    4.017602    0.021663    12.847292  \n",
              "std      5.806625   16.317469    1.791653    0.295959    63.655818  \n",
              "min      2.200000   15.000000    0.400000    0.000000     0.000000  \n",
              "25%     15.500000   33.000000    2.700000    0.000000     0.000000  \n",
              "50%     19.300000   42.000000    4.000000    0.000000     0.520000  \n",
              "75%     22.800000   53.000000    4.900000    0.000000     6.570000  \n",
              "max     33.300000  100.000000    9.400000    6.400000  1090.840000  "
            ]
          },
          "metadata": {
            "tags": []
          },
          "execution_count": 3
        }
      ]
    },
    {
      "metadata": {
        "id": "VvnT5xGHxQ5Z",
        "colab_type": "code",
        "colab": {}
      },
      "cell_type": "code",
      "source": [
        "def calc_mean(numbers):\n",
        "  return sum(numbers) / len(numbers)"
      ],
      "execution_count": 0,
      "outputs": []
    },
    {
      "metadata": {
        "id": "pduBPAPZyY77",
        "colab_type": "code",
        "colab": {}
      },
      "cell_type": "code",
      "source": [
        "def calc_median(numbers):\n",
        "  return sorted(numbers)[len(numbers) // 2]"
      ],
      "execution_count": 0,
      "outputs": []
    },
    {
      "metadata": {
        "id": "AAf3oIxnyoNY",
        "colab_type": "code",
        "colab": {
          "base_uri": "https://localhost:8080/",
          "height": 51
        },
        "outputId": "6ec0257d-856e-4519-e080-7ae8fe196525"
      },
      "cell_type": "code",
      "source": [
        "# Continuous Variable\n",
        "\n",
        "print(\"mean temp: \", calc_mean(df.temp))\n",
        "print(\"median temp\", calc_median(df.temp))"
      ],
      "execution_count": 11,
      "outputs": [
        {
          "output_type": "stream",
          "text": [
            "mean temp:  18.88916827852998\n",
            "median temp 19.3\n"
          ],
          "name": "stdout"
        }
      ]
    },
    {
      "metadata": {
        "id": "Zw2rkC3LzS7N",
        "colab_type": "code",
        "colab": {
          "base_uri": "https://localhost:8080/",
          "height": 51
        },
        "outputId": "28a6ed11-503c-458c-f36f-c71ce2d34a89"
      },
      "cell_type": "code",
      "source": [
        "#continuous variable\n",
        "\n",
        "print(\"mean DMC: \", calc_mean(df.DMC))\n",
        "print(\"median DMC\", calc_median(df.DMC))"
      ],
      "execution_count": 12,
      "outputs": [
        {
          "output_type": "stream",
          "text": [
            "mean DMC:  110.87234042553195\n",
            "median DMC 108.3\n"
          ],
          "name": "stdout"
        }
      ]
    },
    {
      "metadata": {
        "id": "IlGNdL2xztE3",
        "colab_type": "code",
        "colab": {
          "base_uri": "https://localhost:8080/",
          "height": 51
        },
        "outputId": "bf793b7a-2a7b-4235-875c-28cd93b5c651"
      },
      "cell_type": "code",
      "source": [
        "# discrete variable\n",
        "\n",
        "print(\"mean X: \", calc_mean(df.X))\n",
        "print(\"median X\", calc_median(df.X))"
      ],
      "execution_count": 13,
      "outputs": [
        {
          "output_type": "stream",
          "text": [
            "mean X:  4.669245647969052\n",
            "median X 4\n"
          ],
          "name": "stdout"
        }
      ]
    },
    {
      "metadata": {
        "id": "hRE0KE0f0KRM",
        "colab_type": "code",
        "colab": {
          "base_uri": "https://localhost:8080/",
          "height": 347
        },
        "outputId": "88f7c4ef-8c63-47cd-cbf7-87ed6e1699ac"
      },
      "cell_type": "code",
      "source": [
        "from matplotlib.pyplot import hist\n",
        "hist_1 = hist(df.X)"
      ],
      "execution_count": 15,
      "outputs": [
        {
          "output_type": "display_data",
          "data": {
            "image/png": "[encoded data removed]",
            "text/plain": [
              "<matplotlib.figure.Figure at 0x7f0c2fcb9550>"
            ]
          },
          "metadata": {
            "tags": []
          }
        }
      ]
    },
    {
      "metadata": {
        "id": "WUb-al7W0iTk",
        "colab_type": "code",
        "colab": {
          "base_uri": "https://localhost:8080/",
          "height": 51
        },
        "outputId": "d07519f5-4d9e-4a74-b299-b80e757f6034"
      },
      "cell_type": "code",
      "source": [
        "df.X.mode()"
      ],
      "execution_count": 16,
      "outputs": [
        {
          "output_type": "execute_result",
          "data": {
            "text/plain": [
              "0    4\n",
              "dtype: int64"
            ]
          },
          "metadata": {
            "tags": []
          },
          "execution_count": 16
        }
      ]
    },
    {
      "metadata": {
        "id": "nJTly_Hw1y_Z",
        "colab_type": "text"
      },
      "cell_type": "markdown",
      "source": [
        "from histogram and mode() we can see for X variable Mode is 4"
      ]
    },
    {
      "metadata": {
        "id": "rMWYZKVX-HGM",
        "colab_type": "text"
      },
      "cell_type": "markdown",
      "source": [
        "## Exercise 3 - Simulate more data!\n",
        "\n",
        "There are many more things that could be done with this data, but for now we've not learned about hypothesis testing or inferential statistics. So, one fun thing to do is - make more data!\n",
        "\n",
        "How do we do that? We can use the same `random` module demonstrated in lecture, and repeatedly sample our data. This is related to the Monte Carlo method used to demonstrate the central limit theorem. In this setting, such simulations could then be applied to Bayesian methods - another topic for another time.\n",
        "\n",
        "For the same three variables that you looked at in exercise 2, you should do the following:\n",
        "\n",
        "1. Generate a *new* variable based on taking values at random from the original one - make the new variable have at least 10 times as many observations as the original\n",
        "2. Calculate the mean, median, and mode of the new variable (it's okay to use prewritten functions for this)\n",
        "3. Compare your results to what you saw in exercise 2 - it should be very similar\n",
        "\n",
        "Once you're done, look back at your code. Chances are you learned things as you wrote it, and you can revisit it to clean it up a bit. Maybe put pieces of code you use multiple times in a function, or add some explanatory comments so anyone reading (including \"future you\") has a clearer understanding of what you did."
      ]
    },
    {
      "metadata": {
        "id": "yExZ2S4W-xDG",
        "colab_type": "code",
        "colab": {}
      },
      "cell_type": "code",
      "source": [
        "# Your code here!\n",
        "# You'll definitely want to import random\n",
        "# And you may find random.choice particularly helpful"
      ],
      "execution_count": 0,
      "outputs": []
    },
    {
      "metadata": {
        "id": "s_d8j5jd5k8H",
        "colab_type": "code",
        "colab": {}
      },
      "cell_type": "code",
      "source": [
        "import random"
      ],
      "execution_count": 0,
      "outputs": []
    },
    {
      "metadata": {
        "id": "MdxwIYY660xy",
        "colab_type": "code",
        "colab": {
          "base_uri": "https://localhost:8080/",
          "height": 34
        },
        "outputId": "ae733a49-81b7-45b2-eb78-820ee59f44ca"
      },
      "cell_type": "code",
      "source": [
        "X = []\n",
        "temp = []\n",
        "DMC = []\n",
        "for _ in range(df.X.size*10):\n",
        "  X.append(random.choice(list(df.X)))\n",
        "  # X + random.sample(list(df.X), 10)\n",
        "  temp.append(random.choice(list(df.temp)))\n",
        "  DMC.append(random.choice(list(df.DMC)))\n",
        "  \n",
        "print(len(X))"
      ],
      "execution_count": 44,
      "outputs": [
        {
          "output_type": "stream",
          "text": [
            "5170\n"
          ],
          "name": "stdout"
        }
      ]
    },
    {
      "metadata": {
        "id": "eHbMrvS-7FBe",
        "colab_type": "code",
        "colab": {
          "base_uri": "https://localhost:8080/",
          "height": 119
        },
        "outputId": "01850e78-866b-478a-c6da-765ad756fca3"
      },
      "cell_type": "code",
      "source": [
        "print(\"mean X: \", calc_mean(X))\n",
        "print(\"median X\", calc_median(X))\n",
        "\n",
        "print(\"mean temp: \", calc_mean(temp))\n",
        "print(\"median temp\", calc_median(temp))\n",
        "\n",
        "print(\"mean DMC: \", calc_mean(DMC))\n",
        "print(\"median DMC\", calc_median(DMC))"
      ],
      "execution_count": 45,
      "outputs": [
        {
          "output_type": "stream",
          "text": [
            "mean X:  4.723017408123791\n",
            "median X 4\n",
            "mean temp:  18.84603481624765\n",
            "median temp 19.3\n",
            "mean DMC:  110.72634429400418\n",
            "median DMC 108.3\n"
          ],
          "name": "stdout"
        }
      ]
    },
    {
      "metadata": {
        "id": "JzBTKYAOBB8q",
        "colab_type": "text"
      },
      "cell_type": "markdown",
      "source": [
        "Regardless of the original/underlying distribution, if you sum and normalize independent random variables, eventually it looks like a normal distribution.\n",
        "That's pretty cool - and it's also super important for dealing with real data, since you often don't know the \"true\" distribution behind it. It serves as the foundation of hypothesis testing.\n",
        "As we have sampled data from oriiginal dataset within particular limit, it still be normal distribution. Thats why mean and median is similar."
      ]
    },
    {
      "metadata": {
        "id": "sj5RYe9yBlfh",
        "colab_type": "text"
      },
      "cell_type": "markdown",
      "source": [
        "## Exercise 4 (*Optional* \"stretch goal\") - Simulate a *lot* of data\n",
        "\n",
        "For *one* of the variables you've been looking at:\n",
        "\n",
        "1. Make an empty list `variablename_means`\n",
        "2. Use your code from exercise 3 to run a Monte Carlo simulation of 1000 experiments where you make a new simulated variable (hint - you'll need a loop)\n",
        "3. For each experiment, calculate the mean of the simulated variable, and append it to the list\n",
        "4. Plot the list as a histogram\n",
        "\n",
        "Once you've done the above, answer the question - how does the distribution of the histogram (of the means of a bunch of simulations of real data) look?"
      ]
    },
    {
      "metadata": {
        "id": "JKlXME96Tuqs",
        "colab_type": "code",
        "colab": {}
      },
      "cell_type": "code",
      "source": [
        "# here i am usinig variable X from exec. 3\n",
        "# 517 is our original records size\n",
        "\n",
        "X_means = []\n",
        "for _ in range(1000):\n",
        "  sample = (random.sample(X, 517))\n",
        "  X_means.append(calc_mean(sample))"
      ],
      "execution_count": 0,
      "outputs": []
    },
    {
      "metadata": {
        "id": "T3gJzjQuDqcu",
        "colab_type": "code",
        "colab": {
          "base_uri": "https://localhost:8080/",
          "height": 432
        },
        "outputId": "21339467-6167-4f20-d8bd-e5dc07b696a1"
      },
      "cell_type": "code",
      "source": [
        "hist(X_means)"
      ],
      "execution_count": 49,
      "outputs": [
        {
          "output_type": "execute_result",
          "data": {
            "text/plain": [
              "(array([  8.,  35.,  63., 133., 206., 226., 172.,  96.,  44.,  17.]),\n",
              " array([4.43133462, 4.4868472 , 4.54235977, 4.59787234, 4.65338491,\n",
              "        4.70889749, 4.76441006, 4.81992263, 4.8754352 , 4.93094778,\n",
              "        4.98646035]),\n",
              " <a list of 10 Patch objects>)"
            ]
          },
          "metadata": {
            "tags": []
          },
          "execution_count": 49
        },
        {
          "output_type": "display_data",
          "data": {
            "image/png": "[encoded data removed]",
            "text/plain": [
              "<matplotlib.figure.Figure at 0x7f0c2d0c4978>"
            ]
          },
          "metadata": {
            "tags": []
          }
        }
      ]
    },
    {
      "metadata": {
        "id": "4AcHa4lUD3Km",
        "colab_type": "text"
      },
      "cell_type": "markdown",
      "source": [
        "means(\\mu) looks like normally distributed, bell curve.\n",
        "\n"
      ]
    },
    {
      "metadata": {
        "id": "U0OXdSoJDvMo",
        "colab_type": "code",
        "colab": {}
      },
      "cell_type": "code",
      "source": [
        ""
      ],
      "execution_count": 0,
      "outputs": []
    }
  ]
}